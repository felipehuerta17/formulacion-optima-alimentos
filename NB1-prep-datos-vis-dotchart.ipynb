{
 "cells": [
  {
   "cell_type": "markdown",
   "id": "83c911f0",
   "metadata": {},
   "source": [
    "### Tutorial Python 1 - Manipulación de datos e introducción a la estadística"
   ]
  },
  {
   "cell_type": "markdown",
   "id": "b286fbc0",
   "metadata": {},
   "source": [
    "Un diagrama de puntos de Cleveland contiene una variable numérica en el eje $x$ y una variable categórica en el eje $y$. Estos diagramas son útiles para comparar tratamientos. El módulo `plotly.express` contiene la funcionalidad `px.scatter` que genera diagramas de puntos generales y categóricos.\n"
   ]
  },
  {
   "cell_type": "markdown",
   "id": "cadc60df",
   "metadata": {},
   "source": [
    "Para este notebook es necesario instalar desde Anaconda Prompt los siguientes módulos:\n",
    "\n",
    "1. Plotly, instálese mediante `pip install plotly`\n",
    "2. Kaleido, instálese mediante `pip install -U kaleido`"
   ]
  },
  {
   "cell_type": "code",
   "execution_count": null,
   "id": "e1bcb942",
   "metadata": {},
   "outputs": [],
   "source": [
    "# Gráficos\n",
    "import plotly.express as px\n",
    "\n",
    "# Manipulación de datos\n",
    "import pandas as pd"
   ]
  },
  {
   "cell_type": "markdown",
   "id": "4e0027a7",
   "metadata": {},
   "source": [
    "### Ingrese su archivo aquí\n",
    "Usted puede preparar un archivo .CSV con dos columnas, donde cada columna representa un tratamiento y cada entrada representa el resultado obtenido con el tratamiento en la observación específica. Usted debe tener el mismo número de observaciones para cada tratamiento"
   ]
  },
  {
   "cell_type": "code",
   "execution_count": null,
   "id": "320396d0",
   "metadata": {},
   "outputs": [],
   "source": [
    "# Importamos el archivo .CSV con los datos\n",
    "df = pd.read_csv(\"chocolate.csv\")\n",
    "\n",
    "# Exploramos los datos con la función df.head()\n",
    "df.head(10)"
   ]
  },
  {
   "cell_type": "code",
   "execution_count": null,
   "id": "0b320d9f",
   "metadata": {},
   "outputs": [],
   "source": []
  },
  {
   "cell_type": "markdown",
   "id": "dd55c421",
   "metadata": {},
   "source": [
    "Si bien esta tabla es visualmente atractiva, se vuelve impráctica para el análisis porque los tratamientos o variables categóricas aparecen como columnas. La función `pandas.melt(df, value_vars)` permite convertir las columnas categóricas de un mismo valor observado en el DataFrame `df` a una nueva variable categórica. El parámetro `value_vars` es una lista que contiene los nombres de las columnas que contienen los valores numéricos."
   ]
  },
  {
   "cell_type": "code",
   "execution_count": null,
   "id": "0844bfe6",
   "metadata": {},
   "outputs": [],
   "source": [
    "df = pd.melt(df, value_vars = df.columns)\n",
    "df.sample(6)"
   ]
  },
  {
   "cell_type": "markdown",
   "id": "f81ea0ec",
   "metadata": {},
   "source": [
    "En verdad, la cantidad \"value\" es la resistencia de la unión a la tracción, que llamaremos `resistencia` para facilitar la manipulación de datos. Además, la cantidad \"variable\" representa la variable categórica que es el tipo de mortero. A esta otra columna le llamaremos `tipo_mortero`. En general, es buena práctica no utilizar espacios en los nombres de las variables en un `DataFrame`. "
   ]
  },
  {
   "cell_type": "code",
   "execution_count": null,
   "id": "84ee33b5",
   "metadata": {},
   "outputs": [],
   "source": [
    "df.rename(columns = {\"variable\":\"tipo_chocolate\", \"value\":\"nota\"}, inplace = True)\n",
    "df.sample(6)"
   ]
  },
  {
   "cell_type": "markdown",
   "id": "4d6650e1",
   "metadata": {},
   "source": [
    "Calculamos los promedios de cada tipo de observación"
   ]
  },
  {
   "cell_type": "code",
   "execution_count": null,
   "id": "65a96be6",
   "metadata": {},
   "outputs": [],
   "source": [
    "# Genera un DataFrame con las medias de los valores de la última columna agrupando por las categorías en la primera columna\n",
    "medias = df.groupby(df.columns[0]).mean()\n",
    "\n",
    "# Extrae las medias como variables numéricas \"float\" para su posterior visualización\n",
    "mu_1 =  medias.loc[df[df.columns[0]].unique()[0]].values[0]\n",
    "mu_2 =  medias.loc[df[df.columns[0]].unique()[1]].values[0]"
   ]
  },
  {
   "cell_type": "markdown",
   "id": "ad761f12",
   "metadata": {},
   "source": [
    "Una vez que los datos están preparados y en el formato adecuado, se procede a graficarlos"
   ]
  },
  {
   "cell_type": "code",
   "execution_count": null,
   "id": "4dd801aa",
   "metadata": {},
   "outputs": [],
   "source": [
    "#df = px.data.medals_long()\n",
    "\n",
    "#fig = px.scatter(df, y=\"nation\", x=\"count\", color=\"medal\", symbol=\"medal\")\n",
    "fig = px.scatter(df, y = df.columns[0], x = df.columns[1], facet_row_spacing = 1, width = 900, height = 200)\n",
    "\n",
    "fig.update_traces(marker_size=10)\n",
    "\n",
    "# Removemos el título del eje y por defecto ya que las categorías aparecen explícitamente\n",
    "fig.update_yaxes(title_text = '')\n",
    "\n",
    "# Agregamos las medias al gráfico\n",
    "\n",
    "# Media concreto modificado\n",
    "fig.add_annotation(x =mu_1, y=-0.5, yref='paper', \n",
    "                   text='$\\mu_{mod} = %.1f$'%mu_1, showarrow=False, font=dict(color=\"Indigo\"))\n",
    "# Línea vertical\n",
    "fig.add_shape(type=\"line\", x0=mu_1, x1=mu_1, y0=0, y1=1, yref='paper', line=dict(color=\"Indigo\"))\n",
    "\n",
    "# Media concreto no modificado\n",
    "fig.add_annotation(x =mu_2, y=-0.5, yref='paper', \n",
    "                   text=\"$\\mu_{no,mod} = %.1f$\"%mu_2, showarrow=False, font=dict(color=\"Brown\"))\n",
    "\n",
    "# Línea vertical\n",
    "fig.add_shape(type=\"line\", x0=mu_2, x1=mu_2, y0=0, y1=1, yref='paper', line=dict(color=\"Brown\"))\n",
    "\n",
    "# Visualización del gráfico resultante\n",
    "fig.show()\n",
    "\n",
    "fig.write_image('dotchoc.svg', 'svg')"
   ]
  }
 ],
 "metadata": {
  "@webio": {
   "lastCommId": null,
   "lastKernelId": null
  },
  "kernelspec": {
   "display_name": "Python 3 (ipykernel)",
   "language": "python",
   "name": "python3"
  },
  "language_info": {
   "codemirror_mode": {
    "name": "ipython",
    "version": 3
   },
   "file_extension": ".py",
   "mimetype": "text/x-python",
   "name": "python",
   "nbconvert_exporter": "python",
   "pygments_lexer": "ipython3",
   "version": "3.10.4"
  }
 },
 "nbformat": 4,
 "nbformat_minor": 5
}
